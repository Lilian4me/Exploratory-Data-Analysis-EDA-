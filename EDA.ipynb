{
 "cells": [
  {
   "cell_type": "code",
   "execution_count": null,
   "id": "8ab1ae2a-3089-463c-86f2-fcca49a40e23",
   "metadata": {},
   "outputs": [],
   "source": [
    "#EDA\n",
    "#Viral Social Media Trends & Engagement Analysis\n"
   ]
  },
  {
   "cell_type": "markdown",
   "id": "625888f4-46f5-4c94-bcb0-98b61a590d89",
   "metadata": {},
   "source": [
    "\n",
    "🚀 Viral Social Media Trends & Engagement Analysis\n",
    "Analyzing trending hashtags, engagement, and platform-specific content performan\n",
    "\n",
    "About Dataset\n",
    "📌 Description\n",
    "This dataset captures viral social media trends across TikTok, Instagram, Twitter, and YouTube. It includes insights into popular hashtags, content types, user engagement levels, and regional impact. Ideal for trend analysis, sentiment modeling, and influencer marketing insights.\n",
    "\n",
    " File Description\n",
    "Viral_Social_Media_Trends.csv\n",
    "This file contains 5,000 records of viral social media posts across TikTok, Instagram, Twitter, and YouTube. It includes key engagement metrics such as views, likes, shares, and comments, along with trending hashtags and content types.\n",
    "\n",
    "🔹 Key Features:\n",
    "   Covers multiple social media platforms 📱\n",
    "   Includes trending hashtags and content types 🔥\n",
    "   Provides engagement metrics for data-driven insights 📊\n",
    "   Useful for data visualization, sentiment analysis, and trend prediction 🚀\n",
    "🏷️ Column Descriptions\n",
    "\n",
    "Column Name\t        Description\n",
    "Post_ID\t            Unique identifier for each social media post\n",
    "Platform\t        Social media platform (TikTok, Instagram, Twitter, YouTube)\n",
    "Hashtag\t            Trending hashtag associated with the post\n",
    "Content_Type\t    Type of content (Reel, Video, Post, Shorts, Tweet, etc.)\n",
    "Region\t            Country where the post gained traction\n",
    "Views\t            Total number of views received\n",
    "Likes\t            Number of likes on the post ❤️\n",
    "Shares\t            Number of times the post was shared 🔄\n",
    "Comments\t        Number of comments on the post 💬\n",
    "Engagement_Level\tEngagement classification: Low, Medium, or High 📊\n",
    "\n",
    "🔹 This dataset helps analyze social media trends, audience engagement, and platform-specific performance for data science & marketing research! 🚀"
   ]
  },
  {
   "cell_type": "markdown",
   "id": "54aab33e-78b3-45cf-9a4d-ffd6ecdc0715",
   "metadata": {},
   "source": [
    "https://www.kaggle.com/datasets/atharvasoundankar/viral-social-media-trends-and-engagement-analysis/data"
   ]
  },
  {
   "cell_type": "code",
   "execution_count": null,
   "id": "89d2685e-9628-4c0d-83a2-34b95bdccdde",
   "metadata": {},
   "outputs": [],
   "source": [
    "#Understanding the key metrics influencing the Social Media Content trends and users engagement across different platforms to get insights of the content creators and marketers."
   ]
  },
  {
   "cell_type": "code",
   "execution_count": 3,
   "id": "2c633160-7f60-429c-8d99-77a2e0e97217",
   "metadata": {},
   "outputs": [
    {
     "name": "stdout",
     "output_type": "stream",
     "text": [
      "Requirement already satisfied: wordcloud in c:\\users\\lilia\\anaconda3\\lib\\site-packages (1.9.4)\n",
      "Requirement already satisfied: plotly in c:\\users\\lilia\\anaconda3\\lib\\site-packages (5.24.1)\n",
      "Requirement already satisfied: numpy>=1.6.1 in c:\\users\\lilia\\anaconda3\\lib\\site-packages (from wordcloud) (1.26.4)\n",
      "Requirement already satisfied: pillow in c:\\users\\lilia\\anaconda3\\lib\\site-packages (from wordcloud) (10.4.0)\n",
      "Requirement already satisfied: matplotlib in c:\\users\\lilia\\anaconda3\\lib\\site-packages (from wordcloud) (3.9.2)\n",
      "Requirement already satisfied: tenacity>=6.2.0 in c:\\users\\lilia\\anaconda3\\lib\\site-packages (from plotly) (8.2.3)\n",
      "Requirement already satisfied: packaging in c:\\users\\lilia\\anaconda3\\lib\\site-packages (from plotly) (24.1)\n",
      "Requirement already satisfied: contourpy>=1.0.1 in c:\\users\\lilia\\anaconda3\\lib\\site-packages (from matplotlib->wordcloud) (1.2.0)\n",
      "Requirement already satisfied: cycler>=0.10 in c:\\users\\lilia\\anaconda3\\lib\\site-packages (from matplotlib->wordcloud) (0.11.0)\n",
      "Requirement already satisfied: fonttools>=4.22.0 in c:\\users\\lilia\\anaconda3\\lib\\site-packages (from matplotlib->wordcloud) (4.51.0)\n",
      "Requirement already satisfied: kiwisolver>=1.3.1 in c:\\users\\lilia\\anaconda3\\lib\\site-packages (from matplotlib->wordcloud) (1.4.4)\n",
      "Requirement already satisfied: pyparsing>=2.3.1 in c:\\users\\lilia\\anaconda3\\lib\\site-packages (from matplotlib->wordcloud) (3.1.2)\n",
      "Requirement already satisfied: python-dateutil>=2.7 in c:\\users\\lilia\\anaconda3\\lib\\site-packages (from matplotlib->wordcloud) (2.9.0.post0)\n",
      "Requirement already satisfied: six>=1.5 in c:\\users\\lilia\\anaconda3\\lib\\site-packages (from python-dateutil>=2.7->matplotlib->wordcloud) (1.16.0)\n"
     ]
    }
   ],
   "source": [
    "!pip install wordcloud plotly"
   ]
  },
  {
   "cell_type": "code",
   "execution_count": 5,
   "id": "0cea691f-d291-46fd-baa2-260f67a64f7d",
   "metadata": {},
   "outputs": [],
   "source": [
    "#import libraries\n",
    "import pandas as pd\n",
    "import numpy as np\n",
    "import matplotlib.pyplot as plt\n",
    "import seaborn as sns\n",
    "import plotly.express as px\n",
    "from wordcloud import WordCloud"
   ]
  },
  {
   "cell_type": "code",
   "execution_count": 9,
   "id": "b7455eb6-400d-48fc-a19a-f1e8c7883d51",
   "metadata": {},
   "outputs": [
    {
     "data": {
      "text/html": [
       "<div>\n",
       "<style scoped>\n",
       "    .dataframe tbody tr th:only-of-type {\n",
       "        vertical-align: middle;\n",
       "    }\n",
       "\n",
       "    .dataframe tbody tr th {\n",
       "        vertical-align: top;\n",
       "    }\n",
       "\n",
       "    .dataframe thead th {\n",
       "        text-align: right;\n",
       "    }\n",
       "</style>\n",
       "<table border=\"1\" class=\"dataframe\">\n",
       "  <thead>\n",
       "    <tr style=\"text-align: right;\">\n",
       "      <th></th>\n",
       "      <th>Post_ID</th>\n",
       "      <th>Platform</th>\n",
       "      <th>Hashtag</th>\n",
       "      <th>Content_Type</th>\n",
       "      <th>Region</th>\n",
       "      <th>Views</th>\n",
       "      <th>Likes</th>\n",
       "      <th>Shares</th>\n",
       "      <th>Comments</th>\n",
       "      <th>Engagement_Level</th>\n",
       "    </tr>\n",
       "  </thead>\n",
       "  <tbody>\n",
       "    <tr>\n",
       "      <th>0</th>\n",
       "      <td>Post_1</td>\n",
       "      <td>TikTok</td>\n",
       "      <td>#Challenge</td>\n",
       "      <td>Video</td>\n",
       "      <td>UK</td>\n",
       "      <td>4163464</td>\n",
       "      <td>339431</td>\n",
       "      <td>53135</td>\n",
       "      <td>19346</td>\n",
       "      <td>High</td>\n",
       "    </tr>\n",
       "    <tr>\n",
       "      <th>1</th>\n",
       "      <td>Post_2</td>\n",
       "      <td>Instagram</td>\n",
       "      <td>#Education</td>\n",
       "      <td>Shorts</td>\n",
       "      <td>India</td>\n",
       "      <td>4155940</td>\n",
       "      <td>215240</td>\n",
       "      <td>65860</td>\n",
       "      <td>27239</td>\n",
       "      <td>Medium</td>\n",
       "    </tr>\n",
       "    <tr>\n",
       "      <th>2</th>\n",
       "      <td>Post_3</td>\n",
       "      <td>Twitter</td>\n",
       "      <td>#Challenge</td>\n",
       "      <td>Video</td>\n",
       "      <td>Brazil</td>\n",
       "      <td>3666211</td>\n",
       "      <td>327143</td>\n",
       "      <td>39423</td>\n",
       "      <td>36223</td>\n",
       "      <td>Medium</td>\n",
       "    </tr>\n",
       "    <tr>\n",
       "      <th>3</th>\n",
       "      <td>Post_4</td>\n",
       "      <td>YouTube</td>\n",
       "      <td>#Education</td>\n",
       "      <td>Shorts</td>\n",
       "      <td>Australia</td>\n",
       "      <td>917951</td>\n",
       "      <td>127125</td>\n",
       "      <td>11687</td>\n",
       "      <td>36806</td>\n",
       "      <td>Low</td>\n",
       "    </tr>\n",
       "    <tr>\n",
       "      <th>4</th>\n",
       "      <td>Post_5</td>\n",
       "      <td>TikTok</td>\n",
       "      <td>#Dance</td>\n",
       "      <td>Post</td>\n",
       "      <td>Brazil</td>\n",
       "      <td>64866</td>\n",
       "      <td>171361</td>\n",
       "      <td>69581</td>\n",
       "      <td>6376</td>\n",
       "      <td>Medium</td>\n",
       "    </tr>\n",
       "  </tbody>\n",
       "</table>\n",
       "</div>"
      ],
      "text/plain": [
       "  Post_ID   Platform     Hashtag Content_Type     Region    Views   Likes  \\\n",
       "0  Post_1     TikTok  #Challenge        Video         UK  4163464  339431   \n",
       "1  Post_2  Instagram  #Education       Shorts      India  4155940  215240   \n",
       "2  Post_3    Twitter  #Challenge        Video     Brazil  3666211  327143   \n",
       "3  Post_4    YouTube  #Education       Shorts  Australia   917951  127125   \n",
       "4  Post_5     TikTok      #Dance         Post     Brazil    64866  171361   \n",
       "\n",
       "   Shares  Comments Engagement_Level  \n",
       "0   53135     19346             High  \n",
       "1   65860     27239           Medium  \n",
       "2   39423     36223           Medium  \n",
       "3   11687     36806              Low  \n",
       "4   69581      6376           Medium  "
      ]
     },
     "execution_count": 9,
     "metadata": {},
     "output_type": "execute_result"
    }
   ],
   "source": [
    "data = pd.read_csv('Viral_Social_Media_Trends.csv')\n",
    "data.head()"
   ]
  },
  {
   "cell_type": "code",
   "execution_count": null,
   "id": "a64cfd91-bda3-457b-9cf2-226d29f570ef",
   "metadata": {},
   "outputs": [],
   "source": []
  }
 ],
 "metadata": {
  "kernelspec": {
   "display_name": "Python [conda env:base] *",
   "language": "python",
   "name": "conda-base-py"
  },
  "language_info": {
   "codemirror_mode": {
    "name": "ipython",
    "version": 3
   },
   "file_extension": ".py",
   "mimetype": "text/x-python",
   "name": "python",
   "nbconvert_exporter": "python",
   "pygments_lexer": "ipython3",
   "version": "3.12.7"
  }
 },
 "nbformat": 4,
 "nbformat_minor": 5
}
